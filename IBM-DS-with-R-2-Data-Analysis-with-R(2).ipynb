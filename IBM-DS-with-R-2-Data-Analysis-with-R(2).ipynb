{
 "cells": [
  {
   "cell_type": "markdown",
   "metadata": {},
   "source": [
    "<center><img src=\"https://cf-courses-data.s3.us.cloud-object-storage.appdomain.cloud/assets/logos/SN_web_lightmode.png\" width=\"300\"></center><br/>\n",
    "\n",
    "# Assignment: Notebook for Peer Assignment\n",
    "\n",
    "Estimated time needed: 60 minutes\n"
   ]
  },
  {
   "cell_type": "markdown",
   "metadata": {},
   "source": [
    "# Assignment Scenario\n",
    "\n",
    "Congratulations! You have just been hired by a US Weather forecast firm as a data scientist.\n",
    "\n",
    "The company is considering the weather condition to help predict the possibility of precipitations, which involves using various local climatological variables, including temperature, wind speed, humidity, dew point, and pressure. The data you will be handling was collected by a NOAA weather station located at the John F. Kennedy International Airport in Queens, New York.\n",
    "\n",
    "Your task is to provide a high level analysis of weather data in JFK Airport. Your stakeholders want to understand the current and historical record of precipitations based on different variables. For now they are mainly interested in a macro-view of JFK Airport Weather, and how it relates to the possibility to rain because it will affect flight delays and etc.\n"
   ]
  },
  {
   "cell_type": "markdown",
   "metadata": {},
   "source": [
    "# Introduction\n",
    "\n",
    "This project relates to the NOAA Weather Dataset - JFK Airport (New York). The original dataset contains 114,546 hourly observations of 12 local climatological variables (such as temperature and wind speed) collected at JFK airport. This dataset can be obtained for free from the IBM Developer [Data Asset Exchange](https://developer.ibm.com/exchanges/data/all/jfk-weather-data/). \n",
    "\n",
    "For this project, you will be using a subset dataset, which contains 5727 rows (about 5% or original rows) and 9 columns. The end goal will be to predict the precipitation using some of the available features. In this project, you will practice reading data files, preprocessing data, creating models, improving models and evaluating them to ultimately choose the best model.\n",
    "\n"
   ]
  },
  {
   "cell_type": "markdown",
   "metadata": {},
   "source": [
    "\n",
    "## Table of Contents:\n",
    "\n",
    "Using this R notebook you will complete **10 tasks**:\n",
    "* [0. Import Modules](#cell0)\n",
    "* [1. Download and Unzip NOAA Weather Dataset](#cell1)\n",
    "* [2. Read Dataset into Project](#cell2)\n",
    "* [3. Select Subset of Columns](#cell3)\n",
    "* [4. Clean Up Columns](#cell4)\n",
    "* [5. Convert Columns to Numerical Types](#cell5)\n",
    "* [6. Rename Columns](#cell6)\n",
    "* [7. Exploratory Data Analysis](#cell7)\n",
    "* [8. Linear Regression](#cell8)\n",
    "* [9. Improve the Model](#cell9)\n",
    "* [10. Find Best Model](#cell10)\n",
    "\n",
    "\n",
    "<a id=\"cell0\"></a>\n",
    "## 0. Import required modules\n",
    "\n",
    "Tidymodels is a collection of packages that use tidyverse principles to easily do the entire modeling process from preprocessing initial data, to creating a model, to tunning hyperparameters. The tidymodels packages can be used to produce high quality statistical and machine learning models. Our Jupyter notebook platforms have a built-in Tidyverse, Tidymodels and rlang packages so we do not need to install these packages prior to loading library. However, if you decide to run this lab on your RStudio Desktop locally on your machine, you can remove the commented lines of code to install these packages before loading.\n",
    " \n"
   ]
  },
  {
   "cell_type": "code",
   "execution_count": 1,
   "metadata": {
    "tags": []
   },
   "outputs": [],
   "source": [
    "# Install tidymodels if you haven't done so\n",
    "# install.packages(\"rlang\")\n",
    "# install.packages(\"tidymodels\")"
   ]
  },
  {
   "cell_type": "markdown",
   "metadata": {},
   "source": [
    "**Note: After installing the packages, restart the kernel. Without installing the packages again, load them. Tidyverse and Tidymodels will be the two main packages you will use.**\n"
   ]
  },
  {
   "cell_type": "code",
   "execution_count": 1,
   "metadata": {
    "tags": []
   },
   "outputs": [
    {
     "name": "stderr",
     "output_type": "stream",
     "text": [
      "── Attaching packages ────────────────────────────────────── tidymodels 0.1.0 ──\n",
      "✔ broom     0.5.6      ✔ recipes   0.1.12\n",
      "✔ dials     0.0.6      ✔ rsample   0.0.5 \n",
      "✔ dplyr     0.8.5      ✔ tibble    3.0.1 \n",
      "✔ ggplot2   3.3.0      ✔ tune      0.1.0 \n",
      "✔ infer     0.5.1      ✔ workflows 0.1.1 \n",
      "✔ parsnip   0.1.0      ✔ yardstick 0.0.6 \n",
      "✔ purrr     0.3.4      \n",
      "── Conflicts ───────────────────────────────────────── tidymodels_conflicts() ──\n",
      "✖ purrr::discard()  masks scales::discard()\n",
      "✖ dplyr::filter()   masks stats::filter()\n",
      "✖ dplyr::lag()      masks stats::lag()\n",
      "✖ ggplot2::margin() masks dials::margin()\n",
      "✖ recipes::step()   masks stats::step()\n",
      "── Attaching packages ─────────────────────────────────────── tidyverse 1.3.0 ──\n",
      "✔ readr   1.3.1     ✔ forcats 0.5.0\n",
      "✔ stringr 1.4.0     \n",
      "── Conflicts ────────────────────────────────────────── tidyverse_conflicts() ──\n",
      "✖ readr::col_factor() masks scales::col_factor()\n",
      "✖ purrr::discard()    masks scales::discard()\n",
      "✖ dplyr::filter()     masks stats::filter()\n",
      "✖ stringr::fixed()    masks recipes::fixed()\n",
      "✖ dplyr::lag()        masks stats::lag()\n",
      "✖ ggplot2::margin()   masks dials::margin()\n",
      "✖ readr::spec()       masks yardstick::spec()\n"
     ]
    }
   ],
   "source": [
    "# Library for modeling\n",
    "library(tidymodels)\n",
    "\n",
    "# Load tidyverse\n",
    "library(tidyverse)"
   ]
  },
  {
   "cell_type": "markdown",
   "metadata": {},
   "source": [
    "\n",
    "### Understand the Dataset\n",
    "\n",
    "The original NOAA JFK dataset contains 114,546 hourly observations of various local climatological variables (including temperature, wind speed, humidity, dew point, and pressure). \n",
    "\n",
    "In this project you will use a sample dataset, which is around 293 KB. [Link to the sample dataset](https://dax-cdn.cdn.appdomain.cloud/dax-noaa-weather-data-jfk-airport/1.1.4/noaa-weather-sample-data.tar.gz).\n",
    "\n",
    "The sample contains 5727 rows (about 5% or original rows) and 9 columns, which are:\n",
    "- DATE\n",
    "- HOURLYDewPointTempF\n",
    "- HOURLYRelativeHumidity\n",
    "- HOURLYDRYBULBTEMPF\n",
    "- HOURLYWETBULBTEMPF\n",
    "- HOURLYPrecip\n",
    "- HOURLYWindSpeed\n",
    "- HOURLYSeaLevelPressure\n",
    "- HOURLYStationPressure\n",
    "\n",
    "The original dataset is much bigger. Feel free to explore the original dataset. [Link to the original dataset.](https://dax-cdn.cdn.appdomain.cloud/dax-noaa-weather-data-jfk-airport/1.1.4/noaa_weather.html) \n",
    "\n",
    "For more information about the dataset, checkout the [preview](https://dax-cdn.cdn.appdomain.cloud/dax-noaa-weather-data-jfk-airport/1.1.4/data-preview/index.html?_ga=2.176781478.281508226.1616293518-1509963377.1616117067&cm_mc_uid=90945889198916153255549&cm_mc_sid_50200000=64650651616293516933) of NOAA Weather - JFK Airport.\n"
   ]
  },
  {
   "cell_type": "markdown",
   "metadata": {},
   "source": [
    "<a id=\"cell1\"></a>\n",
    "\n",
    "## 1. Download NOAA Weather Dataset\n",
    "\n",
    "Use the `download.file()` function to download the sample dataset from the URL below.\n",
    "\n",
    "URL = 'https://dax-cdn.cdn.appdomain.cloud/dax-noaa-weather-data-jfk-airport/1.1.4/noaa-weather-sample-data.tar.gz'\n"
   ]
  },
  {
   "cell_type": "code",
   "execution_count": 2,
   "metadata": {
    "tags": []
   },
   "outputs": [],
   "source": [
    "url <- \"https://dax-cdn.cdn.appdomain.cloud/dax-noaa-weather-data-jfk-airport/1.1.4/noaa-weather-sample-data.tar.gz\"\n",
    "download.file(url, destfile = \"noaa-weather-sample-data.tar.gz\")"
   ]
  },
  {
   "cell_type": "markdown",
   "metadata": {},
   "source": [
    "Untar the zipped file.\n"
   ]
  },
  {
   "cell_type": "code",
   "execution_count": 3,
   "metadata": {
    "tags": []
   },
   "outputs": [
    {
     "name": "stderr",
     "output_type": "stream",
     "text": [
      "Warning message in untar2(tarfile, files, list, exdir, restore_times):\n",
      "“using pax extended headers”"
     ]
    }
   ],
   "source": [
    "untar(\"noaa-weather-sample-data.tar.gz\", tar = \"internal\")"
   ]
  },
  {
   "cell_type": "markdown",
   "metadata": {},
   "source": [
    "<a id=\"cell2\"></a>\n",
    "## 2. Extract and Read into Project\n",
    "We start by reading in the raw dataset. You should specify the file name as \"noaa-weather-sample-data/jfk_weather_sample.csv\".\n"
   ]
  },
  {
   "cell_type": "markdown",
   "metadata": {},
   "source": [
    "Next, display the first few rows of the dataframe.\n"
   ]
  },
  {
   "cell_type": "code",
   "execution_count": 4,
   "metadata": {
    "tags": []
   },
   "outputs": [
    {
     "name": "stderr",
     "output_type": "stream",
     "text": [
      "Parsed with column specification:\n",
      "cols(\n",
      "  DATE = col_datetime(format = \"\"),\n",
      "  HOURLYDewPointTempF = col_double(),\n",
      "  HOURLYRelativeHumidity = col_double(),\n",
      "  HOURLYDRYBULBTEMPF = col_double(),\n",
      "  HOURLYWETBULBTEMPF = col_double(),\n",
      "  HOURLYPrecip = col_character(),\n",
      "  HOURLYWindSpeed = col_double(),\n",
      "  HOURLYSeaLevelPressure = col_double(),\n",
      "  HOURLYStationPressure = col_double()\n",
      ")\n",
      "Warning message:\n",
      "“1 parsing failure.\n",
      " row                 col               expected actual                                              file\n",
      "1443 HOURLYDewPointTempF no trailing characters      s 'noaa-weather-sample-data/jfk_weather_sample.csv'\n",
      "”"
     ]
    }
   ],
   "source": [
    "jfk_weather_sample <- read_csv (\"noaa-weather-sample-data/jfk_weather_sample.csv\")"
   ]
  },
  {
   "cell_type": "code",
   "execution_count": 5,
   "metadata": {
    "tags": []
   },
   "outputs": [
    {
     "data": {
      "text/html": [
       "<table>\n",
       "<caption>A tibble: 10 × 9</caption>\n",
       "<thead>\n",
       "\t<tr><th scope=col>DATE</th><th scope=col>HOURLYDewPointTempF</th><th scope=col>HOURLYRelativeHumidity</th><th scope=col>HOURLYDRYBULBTEMPF</th><th scope=col>HOURLYWETBULBTEMPF</th><th scope=col>HOURLYPrecip</th><th scope=col>HOURLYWindSpeed</th><th scope=col>HOURLYSeaLevelPressure</th><th scope=col>HOURLYStationPressure</th></tr>\n",
       "\t<tr><th scope=col>&lt;dttm&gt;</th><th scope=col>&lt;dbl&gt;</th><th scope=col>&lt;dbl&gt;</th><th scope=col>&lt;dbl&gt;</th><th scope=col>&lt;dbl&gt;</th><th scope=col>&lt;chr&gt;</th><th scope=col>&lt;dbl&gt;</th><th scope=col>&lt;dbl&gt;</th><th scope=col>&lt;dbl&gt;</th></tr>\n",
       "</thead>\n",
       "<tbody>\n",
       "\t<tr><td>2015-07-25 13:51:00</td><td>60</td><td>46</td><td>83</td><td>68</td><td>0.00</td><td>13</td><td>30.01</td><td>29.99</td></tr>\n",
       "\t<tr><td>2016-11-18 23:51:00</td><td>34</td><td>48</td><td>53</td><td>44</td><td>0.00</td><td> 6</td><td>30.05</td><td>30.03</td></tr>\n",
       "\t<tr><td>2013-01-06 08:51:00</td><td>33</td><td>89</td><td>36</td><td>35</td><td>0.00</td><td>13</td><td>30.14</td><td>30.12</td></tr>\n",
       "\t<tr><td>2011-01-27 16:51:00</td><td>18</td><td>48</td><td>36</td><td>30</td><td>0.00</td><td>14</td><td>29.82</td><td>29.80</td></tr>\n",
       "\t<tr><td>2015-01-03 12:16:00</td><td>27</td><td>61</td><td>39</td><td>34</td><td>T   </td><td>11</td><td>   NA</td><td>30.50</td></tr>\n",
       "\t<tr><td>2013-02-15 20:51:00</td><td>35</td><td>79</td><td>41</td><td>38</td><td>0.00</td><td> 6</td><td>29.94</td><td>29.92</td></tr>\n",
       "\t<tr><td>2014-03-01 02:51:00</td><td> 4</td><td>51</td><td>19</td><td>15</td><td>0.00</td><td> 0</td><td>30.42</td><td>30.40</td></tr>\n",
       "\t<tr><td>2014-02-12 21:51:00</td><td>14</td><td>65</td><td>24</td><td>21</td><td>0.00</td><td>11</td><td>30.37</td><td>30.35</td></tr>\n",
       "\t<tr><td>2014-10-11 09:51:00</td><td>51</td><td>90</td><td>54</td><td>52</td><td>0.06</td><td>11</td><td>30.05</td><td>30.03</td></tr>\n",
       "\t<tr><td>2012-08-09 04:00:00</td><td>71</td><td>94</td><td>73</td><td>72</td><td>NA  </td><td> 5</td><td>29.94</td><td>29.91</td></tr>\n",
       "</tbody>\n",
       "</table>\n"
      ],
      "text/latex": [
       "A tibble: 10 × 9\n",
       "\\begin{tabular}{lllllllll}\n",
       " DATE & HOURLYDewPointTempF & HOURLYRelativeHumidity & HOURLYDRYBULBTEMPF & HOURLYWETBULBTEMPF & HOURLYPrecip & HOURLYWindSpeed & HOURLYSeaLevelPressure & HOURLYStationPressure\\\\\n",
       " <dttm> & <dbl> & <dbl> & <dbl> & <dbl> & <chr> & <dbl> & <dbl> & <dbl>\\\\\n",
       "\\hline\n",
       "\t 2015-07-25 13:51:00 & 60 & 46 & 83 & 68 & 0.00 & 13 & 30.01 & 29.99\\\\\n",
       "\t 2016-11-18 23:51:00 & 34 & 48 & 53 & 44 & 0.00 &  6 & 30.05 & 30.03\\\\\n",
       "\t 2013-01-06 08:51:00 & 33 & 89 & 36 & 35 & 0.00 & 13 & 30.14 & 30.12\\\\\n",
       "\t 2011-01-27 16:51:00 & 18 & 48 & 36 & 30 & 0.00 & 14 & 29.82 & 29.80\\\\\n",
       "\t 2015-01-03 12:16:00 & 27 & 61 & 39 & 34 & T    & 11 &    NA & 30.50\\\\\n",
       "\t 2013-02-15 20:51:00 & 35 & 79 & 41 & 38 & 0.00 &  6 & 29.94 & 29.92\\\\\n",
       "\t 2014-03-01 02:51:00 &  4 & 51 & 19 & 15 & 0.00 &  0 & 30.42 & 30.40\\\\\n",
       "\t 2014-02-12 21:51:00 & 14 & 65 & 24 & 21 & 0.00 & 11 & 30.37 & 30.35\\\\\n",
       "\t 2014-10-11 09:51:00 & 51 & 90 & 54 & 52 & 0.06 & 11 & 30.05 & 30.03\\\\\n",
       "\t 2012-08-09 04:00:00 & 71 & 94 & 73 & 72 & NA   &  5 & 29.94 & 29.91\\\\\n",
       "\\end{tabular}\n"
      ],
      "text/markdown": [
       "\n",
       "A tibble: 10 × 9\n",
       "\n",
       "| DATE &lt;dttm&gt; | HOURLYDewPointTempF &lt;dbl&gt; | HOURLYRelativeHumidity &lt;dbl&gt; | HOURLYDRYBULBTEMPF &lt;dbl&gt; | HOURLYWETBULBTEMPF &lt;dbl&gt; | HOURLYPrecip &lt;chr&gt; | HOURLYWindSpeed &lt;dbl&gt; | HOURLYSeaLevelPressure &lt;dbl&gt; | HOURLYStationPressure &lt;dbl&gt; |\n",
       "|---|---|---|---|---|---|---|---|---|\n",
       "| 2015-07-25 13:51:00 | 60 | 46 | 83 | 68 | 0.00 | 13 | 30.01 | 29.99 |\n",
       "| 2016-11-18 23:51:00 | 34 | 48 | 53 | 44 | 0.00 |  6 | 30.05 | 30.03 |\n",
       "| 2013-01-06 08:51:00 | 33 | 89 | 36 | 35 | 0.00 | 13 | 30.14 | 30.12 |\n",
       "| 2011-01-27 16:51:00 | 18 | 48 | 36 | 30 | 0.00 | 14 | 29.82 | 29.80 |\n",
       "| 2015-01-03 12:16:00 | 27 | 61 | 39 | 34 | T    | 11 |    NA | 30.50 |\n",
       "| 2013-02-15 20:51:00 | 35 | 79 | 41 | 38 | 0.00 |  6 | 29.94 | 29.92 |\n",
       "| 2014-03-01 02:51:00 |  4 | 51 | 19 | 15 | 0.00 |  0 | 30.42 | 30.40 |\n",
       "| 2014-02-12 21:51:00 | 14 | 65 | 24 | 21 | 0.00 | 11 | 30.37 | 30.35 |\n",
       "| 2014-10-11 09:51:00 | 51 | 90 | 54 | 52 | 0.06 | 11 | 30.05 | 30.03 |\n",
       "| 2012-08-09 04:00:00 | 71 | 94 | 73 | 72 | NA   |  5 | 29.94 | 29.91 |\n",
       "\n"
      ],
      "text/plain": [
       "   DATE                HOURLYDewPointTempF HOURLYRelativeHumidity\n",
       "1  2015-07-25 13:51:00 60                  46                    \n",
       "2  2016-11-18 23:51:00 34                  48                    \n",
       "3  2013-01-06 08:51:00 33                  89                    \n",
       "4  2011-01-27 16:51:00 18                  48                    \n",
       "5  2015-01-03 12:16:00 27                  61                    \n",
       "6  2013-02-15 20:51:00 35                  79                    \n",
       "7  2014-03-01 02:51:00  4                  51                    \n",
       "8  2014-02-12 21:51:00 14                  65                    \n",
       "9  2014-10-11 09:51:00 51                  90                    \n",
       "10 2012-08-09 04:00:00 71                  94                    \n",
       "   HOURLYDRYBULBTEMPF HOURLYWETBULBTEMPF HOURLYPrecip HOURLYWindSpeed\n",
       "1  83                 68                 0.00         13             \n",
       "2  53                 44                 0.00          6             \n",
       "3  36                 35                 0.00         13             \n",
       "4  36                 30                 0.00         14             \n",
       "5  39                 34                 T            11             \n",
       "6  41                 38                 0.00          6             \n",
       "7  19                 15                 0.00          0             \n",
       "8  24                 21                 0.00         11             \n",
       "9  54                 52                 0.06         11             \n",
       "10 73                 72                 NA            5             \n",
       "   HOURLYSeaLevelPressure HOURLYStationPressure\n",
       "1  30.01                  29.99                \n",
       "2  30.05                  30.03                \n",
       "3  30.14                  30.12                \n",
       "4  29.82                  29.80                \n",
       "5     NA                  30.50                \n",
       "6  29.94                  29.92                \n",
       "7  30.42                  30.40                \n",
       "8  30.37                  30.35                \n",
       "9  30.05                  30.03                \n",
       "10 29.94                  29.91                "
      ]
     },
     "metadata": {},
     "output_type": "display_data"
    }
   ],
   "source": [
    "head(jfk_weather_sample,10)"
   ]
  },
  {
   "cell_type": "markdown",
   "metadata": {},
   "source": [
    "Also, take a `glimpse` of the dataset to see the different column data types and make sure it is the correct subset dataset with about 5700 rows and 9 columns.\n"
   ]
  },
  {
   "cell_type": "code",
   "execution_count": 6,
   "metadata": {
    "tags": []
   },
   "outputs": [
    {
     "name": "stdout",
     "output_type": "stream",
     "text": [
      "Rows: 5,727\n",
      "Columns: 9\n",
      "$ DATE                   <dttm> 2015-07-25 13:51:00, 2016-11-18 23:51:00, 201…\n",
      "$ HOURLYDewPointTempF    <dbl> 60, 34, 33, 18, 27, 35, 4, 14, 51, 71, 76, 19,…\n",
      "$ HOURLYRelativeHumidity <dbl> 46, 48, 89, 48, 61, 79, 51, 65, 90, 94, 79, 37…\n",
      "$ HOURLYDRYBULBTEMPF     <dbl> 83, 53, 36, 36, 39, 41, 19, 24, 54, 73, 83, 44…\n",
      "$ HOURLYWETBULBTEMPF     <dbl> 68, 44, 35, 30, 34, 38, 15, 21, 52, 72, 78, 35…\n",
      "$ HOURLYPrecip           <chr> \"0.00\", \"0.00\", \"0.00\", \"0.00\", \"T\", \"0.00\", \"…\n",
      "$ HOURLYWindSpeed        <dbl> 13, 6, 13, 14, 11, 6, 0, 11, 11, 5, 21, 7, 17,…\n",
      "$ HOURLYSeaLevelPressure <dbl> 30.01, 30.05, 30.14, 29.82, NA, 29.94, 30.42, …\n",
      "$ HOURLYStationPressure  <dbl> 29.99, 30.03, 30.12, 29.80, 30.50, 29.92, 30.4…\n"
     ]
    }
   ],
   "source": [
    "glimpse(jfk_weather_sample)"
   ]
  },
  {
   "cell_type": "markdown",
   "metadata": {},
   "source": [
    "<a id=\"cell3\"></a>\n",
    "## 3. Select Subset of Columns\n",
    "\n",
    "The end goal of this project will be to predict `HOURLYprecip` (precipitation) using a few other variables. Before you can do this, you first need to preprocess the dataset. Section 3 to section 6 focuses on preprocessing.\n",
    "\n",
    "The first step in preprocessing is to select a subset of data columns and inspect the column types.\n",
    "\n",
    "The key columns that we will explore in this project are:\n",
    "- HOURLYRelativeHumidity\n",
    "- HOURLYDRYBULBTEMPF\n",
    "- HOURLYPrecip\n",
    "- HOURLYWindSpeed\n",
    "- HOURLYStationPressure\n",
    "\n",
    "Data Glossary:\n",
    "- 'HOURLYRelativeHumidity' is the relative humidity given to the nearest whole percentage.\n",
    "- 'HOURLYDRYBULBTEMPF' is the dry-bulb temperature and is commonly used as the standard air temperature reported. It is given here in whole degrees Fahrenheit.\n",
    "- 'HOURLYPrecip' is the amount of precipitation in inches to hundredths over the past hour. For certain automated stations, precipitation will be reported at sub-hourly intervals (e.g. every 15 or 20 minutes) as an accumulated amount of all precipitation within the preceding hour. A “T” indicates a trace amount of precipitation.\n",
    "- 'HOURLYWindSpeed' is the speed of the wind at the time of observation given in miles per hour (mph).\n",
    "- 'HOURLYStationPressure' is the atmospheric pressure observed at the station during the time of observation. Given in inches of Mercury (in Hg).\n",
    "\n",
    "`Select` those five columns and store the modified dataframe as a new variable.\n"
   ]
  },
  {
   "cell_type": "code",
   "execution_count": 7,
   "metadata": {
    "tags": []
   },
   "outputs": [],
   "source": [
    "sub_sample <- select ( jfk_weather_sample, c(\"HOURLYRelativeHumidity\", \n",
    "                                             \"HOURLYDRYBULBTEMPF\", \"HOURLYPrecip\", \"HOURLYWindSpeed\", \"HOURLYStationPressure\"))"
   ]
  },
  {
   "cell_type": "markdown",
   "metadata": {},
   "source": [
    "Show the first 10 rows of this new dataframe.\n"
   ]
  },
  {
   "cell_type": "code",
   "execution_count": 8,
   "metadata": {
    "tags": []
   },
   "outputs": [
    {
     "data": {
      "text/html": [
       "<table>\n",
       "<caption>A tibble: 10 × 5</caption>\n",
       "<thead>\n",
       "\t<tr><th scope=col>HOURLYRelativeHumidity</th><th scope=col>HOURLYDRYBULBTEMPF</th><th scope=col>HOURLYPrecip</th><th scope=col>HOURLYWindSpeed</th><th scope=col>HOURLYStationPressure</th></tr>\n",
       "\t<tr><th scope=col>&lt;dbl&gt;</th><th scope=col>&lt;dbl&gt;</th><th scope=col>&lt;chr&gt;</th><th scope=col>&lt;dbl&gt;</th><th scope=col>&lt;dbl&gt;</th></tr>\n",
       "</thead>\n",
       "<tbody>\n",
       "\t<tr><td>46</td><td>83</td><td>0.00</td><td>13</td><td>29.99</td></tr>\n",
       "\t<tr><td>48</td><td>53</td><td>0.00</td><td> 6</td><td>30.03</td></tr>\n",
       "\t<tr><td>89</td><td>36</td><td>0.00</td><td>13</td><td>30.12</td></tr>\n",
       "\t<tr><td>48</td><td>36</td><td>0.00</td><td>14</td><td>29.80</td></tr>\n",
       "\t<tr><td>61</td><td>39</td><td>T   </td><td>11</td><td>30.50</td></tr>\n",
       "\t<tr><td>79</td><td>41</td><td>0.00</td><td> 6</td><td>29.92</td></tr>\n",
       "\t<tr><td>51</td><td>19</td><td>0.00</td><td> 0</td><td>30.40</td></tr>\n",
       "\t<tr><td>65</td><td>24</td><td>0.00</td><td>11</td><td>30.35</td></tr>\n",
       "\t<tr><td>90</td><td>54</td><td>0.06</td><td>11</td><td>30.03</td></tr>\n",
       "\t<tr><td>94</td><td>73</td><td>NA  </td><td> 5</td><td>29.91</td></tr>\n",
       "</tbody>\n",
       "</table>\n"
      ],
      "text/latex": [
       "A tibble: 10 × 5\n",
       "\\begin{tabular}{lllll}\n",
       " HOURLYRelativeHumidity & HOURLYDRYBULBTEMPF & HOURLYPrecip & HOURLYWindSpeed & HOURLYStationPressure\\\\\n",
       " <dbl> & <dbl> & <chr> & <dbl> & <dbl>\\\\\n",
       "\\hline\n",
       "\t 46 & 83 & 0.00 & 13 & 29.99\\\\\n",
       "\t 48 & 53 & 0.00 &  6 & 30.03\\\\\n",
       "\t 89 & 36 & 0.00 & 13 & 30.12\\\\\n",
       "\t 48 & 36 & 0.00 & 14 & 29.80\\\\\n",
       "\t 61 & 39 & T    & 11 & 30.50\\\\\n",
       "\t 79 & 41 & 0.00 &  6 & 29.92\\\\\n",
       "\t 51 & 19 & 0.00 &  0 & 30.40\\\\\n",
       "\t 65 & 24 & 0.00 & 11 & 30.35\\\\\n",
       "\t 90 & 54 & 0.06 & 11 & 30.03\\\\\n",
       "\t 94 & 73 & NA   &  5 & 29.91\\\\\n",
       "\\end{tabular}\n"
      ],
      "text/markdown": [
       "\n",
       "A tibble: 10 × 5\n",
       "\n",
       "| HOURLYRelativeHumidity &lt;dbl&gt; | HOURLYDRYBULBTEMPF &lt;dbl&gt; | HOURLYPrecip &lt;chr&gt; | HOURLYWindSpeed &lt;dbl&gt; | HOURLYStationPressure &lt;dbl&gt; |\n",
       "|---|---|---|---|---|\n",
       "| 46 | 83 | 0.00 | 13 | 29.99 |\n",
       "| 48 | 53 | 0.00 |  6 | 30.03 |\n",
       "| 89 | 36 | 0.00 | 13 | 30.12 |\n",
       "| 48 | 36 | 0.00 | 14 | 29.80 |\n",
       "| 61 | 39 | T    | 11 | 30.50 |\n",
       "| 79 | 41 | 0.00 |  6 | 29.92 |\n",
       "| 51 | 19 | 0.00 |  0 | 30.40 |\n",
       "| 65 | 24 | 0.00 | 11 | 30.35 |\n",
       "| 90 | 54 | 0.06 | 11 | 30.03 |\n",
       "| 94 | 73 | NA   |  5 | 29.91 |\n",
       "\n"
      ],
      "text/plain": [
       "   HOURLYRelativeHumidity HOURLYDRYBULBTEMPF HOURLYPrecip HOURLYWindSpeed\n",
       "1  46                     83                 0.00         13             \n",
       "2  48                     53                 0.00          6             \n",
       "3  89                     36                 0.00         13             \n",
       "4  48                     36                 0.00         14             \n",
       "5  61                     39                 T            11             \n",
       "6  79                     41                 0.00          6             \n",
       "7  51                     19                 0.00          0             \n",
       "8  65                     24                 0.00         11             \n",
       "9  90                     54                 0.06         11             \n",
       "10 94                     73                 NA            5             \n",
       "   HOURLYStationPressure\n",
       "1  29.99                \n",
       "2  30.03                \n",
       "3  30.12                \n",
       "4  29.80                \n",
       "5  30.50                \n",
       "6  29.92                \n",
       "7  30.40                \n",
       "8  30.35                \n",
       "9  30.03                \n",
       "10 29.91                "
      ]
     },
     "metadata": {},
     "output_type": "display_data"
    }
   ],
   "source": [
    "head(sub_sample, 10)"
   ]
  },
  {
   "cell_type": "markdown",
   "metadata": {},
   "source": [
    "<a id=\"cell4\"></a>\n",
    "## 4. Clean Up Columns\n",
    "\n",
    "From the dataframe preview above, we can see that the column `HOURLYPrecip` - which is the hourly measure of precipitation levels - contains both `NA` and `T` values. `T` specifies *trace amounts of precipitation* (meaning essentially no precipitation), while `NA` means *not available*, and is used to denote missing values. Additionally, some values also have \"s\" at the end of them, indicating that the precipitation was snow. \n",
    "\n",
    "Inspect the unique values present in the column `HOURLYPrecip` (with `unique(dataframe$column)`) to see these values.\n"
   ]
  },
  {
   "cell_type": "code",
   "execution_count": 9,
   "metadata": {
    "tags": []
   },
   "outputs": [
    {
     "data": {
      "text/html": [
       "<style>\n",
       ".list-inline {list-style: none; margin:0; padding: 0}\n",
       ".list-inline>li {display: inline-block}\n",
       ".list-inline>li:not(:last-child)::after {content: \"\\00b7\"; padding: 0 .5ex}\n",
       "</style>\n",
       "<ol class=list-inline><li>'0.00'</li><li>'T'</li><li>'0.06'</li><li>NA</li><li>'0.03'</li><li>'0.02'</li><li>'0.08'</li><li>'0.01'</li><li>'0.07'</li><li>'0.16'</li><li>'0.09'</li><li>'0.22'</li><li>'0.02s'</li><li>'0.24'</li><li>'0.18'</li><li>'0.05'</li><li>'0.04'</li><li>'0.09s'</li><li>'0.11'</li><li>'0.14'</li><li>'0.25'</li><li>'0.10'</li><li>'0.01s'</li><li>'0.58'</li><li>'0.12'</li><li>'0.13'</li><li>'0.46'</li><li>'1.07'</li><li>'1.19'</li><li>'0.34'</li><li>'0.20'</li><li>'0.36s'</li><li>'0.42'</li><li>'0.17'</li><li>'0.27'</li><li>'0.35'</li><li>'0.31'</li><li>'0.33'</li><li>'0.23'</li><li>'0.26'</li><li>'0.28'</li><li>'0.75'</li><li>'0.19'</li><li>'0.36'</li><li>'0.03s'</li><li>'0.07s'</li><li>'0.54'</li><li>'0.59'</li><li>'0.21'</li></ol>\n"
      ],
      "text/latex": [
       "\\begin{enumerate*}\n",
       "\\item '0.00'\n",
       "\\item 'T'\n",
       "\\item '0.06'\n",
       "\\item NA\n",
       "\\item '0.03'\n",
       "\\item '0.02'\n",
       "\\item '0.08'\n",
       "\\item '0.01'\n",
       "\\item '0.07'\n",
       "\\item '0.16'\n",
       "\\item '0.09'\n",
       "\\item '0.22'\n",
       "\\item '0.02s'\n",
       "\\item '0.24'\n",
       "\\item '0.18'\n",
       "\\item '0.05'\n",
       "\\item '0.04'\n",
       "\\item '0.09s'\n",
       "\\item '0.11'\n",
       "\\item '0.14'\n",
       "\\item '0.25'\n",
       "\\item '0.10'\n",
       "\\item '0.01s'\n",
       "\\item '0.58'\n",
       "\\item '0.12'\n",
       "\\item '0.13'\n",
       "\\item '0.46'\n",
       "\\item '1.07'\n",
       "\\item '1.19'\n",
       "\\item '0.34'\n",
       "\\item '0.20'\n",
       "\\item '0.36s'\n",
       "\\item '0.42'\n",
       "\\item '0.17'\n",
       "\\item '0.27'\n",
       "\\item '0.35'\n",
       "\\item '0.31'\n",
       "\\item '0.33'\n",
       "\\item '0.23'\n",
       "\\item '0.26'\n",
       "\\item '0.28'\n",
       "\\item '0.75'\n",
       "\\item '0.19'\n",
       "\\item '0.36'\n",
       "\\item '0.03s'\n",
       "\\item '0.07s'\n",
       "\\item '0.54'\n",
       "\\item '0.59'\n",
       "\\item '0.21'\n",
       "\\end{enumerate*}\n"
      ],
      "text/markdown": [
       "1. '0.00'\n",
       "2. 'T'\n",
       "3. '0.06'\n",
       "4. NA\n",
       "5. '0.03'\n",
       "6. '0.02'\n",
       "7. '0.08'\n",
       "8. '0.01'\n",
       "9. '0.07'\n",
       "10. '0.16'\n",
       "11. '0.09'\n",
       "12. '0.22'\n",
       "13. '0.02s'\n",
       "14. '0.24'\n",
       "15. '0.18'\n",
       "16. '0.05'\n",
       "17. '0.04'\n",
       "18. '0.09s'\n",
       "19. '0.11'\n",
       "20. '0.14'\n",
       "21. '0.25'\n",
       "22. '0.10'\n",
       "23. '0.01s'\n",
       "24. '0.58'\n",
       "25. '0.12'\n",
       "26. '0.13'\n",
       "27. '0.46'\n",
       "28. '1.07'\n",
       "29. '1.19'\n",
       "30. '0.34'\n",
       "31. '0.20'\n",
       "32. '0.36s'\n",
       "33. '0.42'\n",
       "34. '0.17'\n",
       "35. '0.27'\n",
       "36. '0.35'\n",
       "37. '0.31'\n",
       "38. '0.33'\n",
       "39. '0.23'\n",
       "40. '0.26'\n",
       "41. '0.28'\n",
       "42. '0.75'\n",
       "43. '0.19'\n",
       "44. '0.36'\n",
       "45. '0.03s'\n",
       "46. '0.07s'\n",
       "47. '0.54'\n",
       "48. '0.59'\n",
       "49. '0.21'\n",
       "\n",
       "\n"
      ],
      "text/plain": [
       " [1] \"0.00\"  \"T\"     \"0.06\"  NA      \"0.03\"  \"0.02\"  \"0.08\"  \"0.01\"  \"0.07\" \n",
       "[10] \"0.16\"  \"0.09\"  \"0.22\"  \"0.02s\" \"0.24\"  \"0.18\"  \"0.05\"  \"0.04\"  \"0.09s\"\n",
       "[19] \"0.11\"  \"0.14\"  \"0.25\"  \"0.10\"  \"0.01s\" \"0.58\"  \"0.12\"  \"0.13\"  \"0.46\" \n",
       "[28] \"1.07\"  \"1.19\"  \"0.34\"  \"0.20\"  \"0.36s\" \"0.42\"  \"0.17\"  \"0.27\"  \"0.35\" \n",
       "[37] \"0.31\"  \"0.33\"  \"0.23\"  \"0.26\"  \"0.28\"  \"0.75\"  \"0.19\"  \"0.36\"  \"0.03s\"\n",
       "[46] \"0.07s\" \"0.54\"  \"0.59\"  \"0.21\" "
      ]
     },
     "metadata": {},
     "output_type": "display_data"
    }
   ],
   "source": [
    "unique(sub_sample$HOURLYPrecip)"
   ]
  },
  {
   "cell_type": "markdown",
   "metadata": {},
   "source": [
    "Having characters in values (like the \"T\" and \"s\" that you see in the unique values) will cause problems when you create a model because values for precipitation should be numerical. So you need to fix these values that have characters. \n",
    "\n",
    "Now, for the column `HOURLYPrecip`:\n",
    "1. Replace all the `T` values with \"0.0\" and \n",
    "2. Remove \"s\" from values like \"0.02s\". In R, you can use the method `str_remove(column, pattern = \"s$\")` to remove the character \"s\" from the end of values. The \"$\" tells R to match to the end of values. The `pattern` is a regex pattern. Look at [here](https://www.rdocumentation.org/packages/stringi/versions/1.5.3/topics/about_search_regex) for more information about regex and matching to strings in R.\n",
    "\n",
    "Remember that you can use `tidyverse`'s  `mutate()` to update columns.\n",
    "\n",
    "You can check your work by checking if unique values of `HOURLYPrecip` still contain any `T` or `s`. Store the modified dataframe as a new variable.\n"
   ]
  },
  {
   "cell_type": "code",
   "execution_count": 10,
   "metadata": {
    "tags": []
   },
   "outputs": [],
   "source": [
    "sub_sample$HOURLYPrecip [sub_sample$HOURLYPrecip == \"T\"] <- 0.0\n",
    "sub_sample$HOURLYPrecip <- str_remove(sub_sample$HOURLYPrecip, pattern = \"s$\")"
   ]
  },
  {
   "cell_type": "code",
   "execution_count": 11,
   "metadata": {
    "tags": []
   },
   "outputs": [],
   "source": [
    "jfk_weather_sample$HOURLYPrecip <- sub_sample$HOURLYPrecip"
   ]
  },
  {
   "cell_type": "code",
   "execution_count": 12,
   "metadata": {
    "tags": []
   },
   "outputs": [
    {
     "data": {
      "text/html": [
       "<style>\n",
       ".list-inline {list-style: none; margin:0; padding: 0}\n",
       ".list-inline>li {display: inline-block}\n",
       ".list-inline>li:not(:last-child)::after {content: \"\\00b7\"; padding: 0 .5ex}\n",
       "</style>\n",
       "<ol class=list-inline><li>'0.00'</li><li>'0'</li><li>'0.06'</li><li>NA</li><li>'0.03'</li><li>'0.02'</li><li>'0.08'</li><li>'0.01'</li><li>'0.07'</li><li>'0.16'</li><li>'0.09'</li><li>'0.22'</li><li>'0.24'</li><li>'0.18'</li><li>'0.05'</li><li>'0.04'</li><li>'0.11'</li><li>'0.14'</li><li>'0.25'</li><li>'0.10'</li><li>'0.58'</li><li>'0.12'</li><li>'0.13'</li><li>'0.46'</li><li>'1.07'</li><li>'1.19'</li><li>'0.34'</li><li>'0.20'</li><li>'0.36'</li><li>'0.42'</li><li>'0.17'</li><li>'0.27'</li><li>'0.35'</li><li>'0.31'</li><li>'0.33'</li><li>'0.23'</li><li>'0.26'</li><li>'0.28'</li><li>'0.75'</li><li>'0.19'</li><li>'0.54'</li><li>'0.59'</li><li>'0.21'</li></ol>\n"
      ],
      "text/latex": [
       "\\begin{enumerate*}\n",
       "\\item '0.00'\n",
       "\\item '0'\n",
       "\\item '0.06'\n",
       "\\item NA\n",
       "\\item '0.03'\n",
       "\\item '0.02'\n",
       "\\item '0.08'\n",
       "\\item '0.01'\n",
       "\\item '0.07'\n",
       "\\item '0.16'\n",
       "\\item '0.09'\n",
       "\\item '0.22'\n",
       "\\item '0.24'\n",
       "\\item '0.18'\n",
       "\\item '0.05'\n",
       "\\item '0.04'\n",
       "\\item '0.11'\n",
       "\\item '0.14'\n",
       "\\item '0.25'\n",
       "\\item '0.10'\n",
       "\\item '0.58'\n",
       "\\item '0.12'\n",
       "\\item '0.13'\n",
       "\\item '0.46'\n",
       "\\item '1.07'\n",
       "\\item '1.19'\n",
       "\\item '0.34'\n",
       "\\item '0.20'\n",
       "\\item '0.36'\n",
       "\\item '0.42'\n",
       "\\item '0.17'\n",
       "\\item '0.27'\n",
       "\\item '0.35'\n",
       "\\item '0.31'\n",
       "\\item '0.33'\n",
       "\\item '0.23'\n",
       "\\item '0.26'\n",
       "\\item '0.28'\n",
       "\\item '0.75'\n",
       "\\item '0.19'\n",
       "\\item '0.54'\n",
       "\\item '0.59'\n",
       "\\item '0.21'\n",
       "\\end{enumerate*}\n"
      ],
      "text/markdown": [
       "1. '0.00'\n",
       "2. '0'\n",
       "3. '0.06'\n",
       "4. NA\n",
       "5. '0.03'\n",
       "6. '0.02'\n",
       "7. '0.08'\n",
       "8. '0.01'\n",
       "9. '0.07'\n",
       "10. '0.16'\n",
       "11. '0.09'\n",
       "12. '0.22'\n",
       "13. '0.24'\n",
       "14. '0.18'\n",
       "15. '0.05'\n",
       "16. '0.04'\n",
       "17. '0.11'\n",
       "18. '0.14'\n",
       "19. '0.25'\n",
       "20. '0.10'\n",
       "21. '0.58'\n",
       "22. '0.12'\n",
       "23. '0.13'\n",
       "24. '0.46'\n",
       "25. '1.07'\n",
       "26. '1.19'\n",
       "27. '0.34'\n",
       "28. '0.20'\n",
       "29. '0.36'\n",
       "30. '0.42'\n",
       "31. '0.17'\n",
       "32. '0.27'\n",
       "33. '0.35'\n",
       "34. '0.31'\n",
       "35. '0.33'\n",
       "36. '0.23'\n",
       "37. '0.26'\n",
       "38. '0.28'\n",
       "39. '0.75'\n",
       "40. '0.19'\n",
       "41. '0.54'\n",
       "42. '0.59'\n",
       "43. '0.21'\n",
       "\n",
       "\n"
      ],
      "text/plain": [
       " [1] \"0.00\" \"0\"    \"0.06\" NA     \"0.03\" \"0.02\" \"0.08\" \"0.01\" \"0.07\" \"0.16\"\n",
       "[11] \"0.09\" \"0.22\" \"0.24\" \"0.18\" \"0.05\" \"0.04\" \"0.11\" \"0.14\" \"0.25\" \"0.10\"\n",
       "[21] \"0.58\" \"0.12\" \"0.13\" \"0.46\" \"1.07\" \"1.19\" \"0.34\" \"0.20\" \"0.36\" \"0.42\"\n",
       "[31] \"0.17\" \"0.27\" \"0.35\" \"0.31\" \"0.33\" \"0.23\" \"0.26\" \"0.28\" \"0.75\" \"0.19\"\n",
       "[41] \"0.54\" \"0.59\" \"0.21\""
      ]
     },
     "metadata": {},
     "output_type": "display_data"
    }
   ],
   "source": [
    "unique(jfk_weather_sample$HOURLYPrecip)"
   ]
  },
  {
   "cell_type": "code",
   "execution_count": 13,
   "metadata": {
    "tags": []
   },
   "outputs": [
    {
     "data": {
      "text/html": [
       "<style>\n",
       ".list-inline {list-style: none; margin:0; padding: 0}\n",
       ".list-inline>li {display: inline-block}\n",
       ".list-inline>li:not(:last-child)::after {content: \"\\00b7\"; padding: 0 .5ex}\n",
       "</style>\n",
       "<ol class=list-inline><li>'0.00'</li><li>'0'</li><li>'0.06'</li><li>NA</li><li>'0.03'</li><li>'0.02'</li><li>'0.08'</li><li>'0.01'</li><li>'0.07'</li><li>'0.16'</li><li>'0.09'</li><li>'0.22'</li><li>'0.24'</li><li>'0.18'</li><li>'0.05'</li><li>'0.04'</li><li>'0.11'</li><li>'0.14'</li><li>'0.25'</li><li>'0.10'</li><li>'0.58'</li><li>'0.12'</li><li>'0.13'</li><li>'0.46'</li><li>'1.07'</li><li>'1.19'</li><li>'0.34'</li><li>'0.20'</li><li>'0.36'</li><li>'0.42'</li><li>'0.17'</li><li>'0.27'</li><li>'0.35'</li><li>'0.31'</li><li>'0.33'</li><li>'0.23'</li><li>'0.26'</li><li>'0.28'</li><li>'0.75'</li><li>'0.19'</li><li>'0.54'</li><li>'0.59'</li><li>'0.21'</li></ol>\n"
      ],
      "text/latex": [
       "\\begin{enumerate*}\n",
       "\\item '0.00'\n",
       "\\item '0'\n",
       "\\item '0.06'\n",
       "\\item NA\n",
       "\\item '0.03'\n",
       "\\item '0.02'\n",
       "\\item '0.08'\n",
       "\\item '0.01'\n",
       "\\item '0.07'\n",
       "\\item '0.16'\n",
       "\\item '0.09'\n",
       "\\item '0.22'\n",
       "\\item '0.24'\n",
       "\\item '0.18'\n",
       "\\item '0.05'\n",
       "\\item '0.04'\n",
       "\\item '0.11'\n",
       "\\item '0.14'\n",
       "\\item '0.25'\n",
       "\\item '0.10'\n",
       "\\item '0.58'\n",
       "\\item '0.12'\n",
       "\\item '0.13'\n",
       "\\item '0.46'\n",
       "\\item '1.07'\n",
       "\\item '1.19'\n",
       "\\item '0.34'\n",
       "\\item '0.20'\n",
       "\\item '0.36'\n",
       "\\item '0.42'\n",
       "\\item '0.17'\n",
       "\\item '0.27'\n",
       "\\item '0.35'\n",
       "\\item '0.31'\n",
       "\\item '0.33'\n",
       "\\item '0.23'\n",
       "\\item '0.26'\n",
       "\\item '0.28'\n",
       "\\item '0.75'\n",
       "\\item '0.19'\n",
       "\\item '0.54'\n",
       "\\item '0.59'\n",
       "\\item '0.21'\n",
       "\\end{enumerate*}\n"
      ],
      "text/markdown": [
       "1. '0.00'\n",
       "2. '0'\n",
       "3. '0.06'\n",
       "4. NA\n",
       "5. '0.03'\n",
       "6. '0.02'\n",
       "7. '0.08'\n",
       "8. '0.01'\n",
       "9. '0.07'\n",
       "10. '0.16'\n",
       "11. '0.09'\n",
       "12. '0.22'\n",
       "13. '0.24'\n",
       "14. '0.18'\n",
       "15. '0.05'\n",
       "16. '0.04'\n",
       "17. '0.11'\n",
       "18. '0.14'\n",
       "19. '0.25'\n",
       "20. '0.10'\n",
       "21. '0.58'\n",
       "22. '0.12'\n",
       "23. '0.13'\n",
       "24. '0.46'\n",
       "25. '1.07'\n",
       "26. '1.19'\n",
       "27. '0.34'\n",
       "28. '0.20'\n",
       "29. '0.36'\n",
       "30. '0.42'\n",
       "31. '0.17'\n",
       "32. '0.27'\n",
       "33. '0.35'\n",
       "34. '0.31'\n",
       "35. '0.33'\n",
       "36. '0.23'\n",
       "37. '0.26'\n",
       "38. '0.28'\n",
       "39. '0.75'\n",
       "40. '0.19'\n",
       "41. '0.54'\n",
       "42. '0.59'\n",
       "43. '0.21'\n",
       "\n",
       "\n"
      ],
      "text/plain": [
       " [1] \"0.00\" \"0\"    \"0.06\" NA     \"0.03\" \"0.02\" \"0.08\" \"0.01\" \"0.07\" \"0.16\"\n",
       "[11] \"0.09\" \"0.22\" \"0.24\" \"0.18\" \"0.05\" \"0.04\" \"0.11\" \"0.14\" \"0.25\" \"0.10\"\n",
       "[21] \"0.58\" \"0.12\" \"0.13\" \"0.46\" \"1.07\" \"1.19\" \"0.34\" \"0.20\" \"0.36\" \"0.42\"\n",
       "[31] \"0.17\" \"0.27\" \"0.35\" \"0.31\" \"0.33\" \"0.23\" \"0.26\" \"0.28\" \"0.75\" \"0.19\"\n",
       "[41] \"0.54\" \"0.59\" \"0.21\""
      ]
     },
     "metadata": {},
     "output_type": "display_data"
    }
   ],
   "source": [
    "unique(sub_sample$HOURLYPrecip)"
   ]
  },
  {
   "cell_type": "markdown",
   "metadata": {},
   "source": [
    "<a id=\"cell5\"></a>\n",
    "## 5. Convert Columns to Numerical Types\n",
    "Now that you have removed the characters in the `HOURLYPrecip` column, you can safely covert the column to a numeric type.\n",
    "\n",
    "First, check the types of the columns. You will notice that all are `dbl` (double or numeric) except for `HOURLYPrecip`, which is `chr` (character or string). Use the `glimpse` function from Tidyverse.\n"
   ]
  },
  {
   "cell_type": "code",
   "execution_count": 14,
   "metadata": {
    "tags": []
   },
   "outputs": [
    {
     "name": "stdout",
     "output_type": "stream",
     "text": [
      "Rows: 5,727\n",
      "Columns: 5\n",
      "$ HOURLYRelativeHumidity <dbl> 46, 48, 89, 48, 61, 79, 51, 65, 90, 94, 79, 37…\n",
      "$ HOURLYDRYBULBTEMPF     <dbl> 83, 53, 36, 36, 39, 41, 19, 24, 54, 73, 83, 44…\n",
      "$ HOURLYPrecip           <chr> \"0.00\", \"0.00\", \"0.00\", \"0.00\", \"0\", \"0.00\", \"…\n",
      "$ HOURLYWindSpeed        <dbl> 13, 6, 13, 14, 11, 6, 0, 11, 11, 5, 21, 7, 17,…\n",
      "$ HOURLYStationPressure  <dbl> 29.99, 30.03, 30.12, 29.80, 30.50, 29.92, 30.4…\n"
     ]
    }
   ],
   "source": [
    "glimpse(sub_sample)"
   ]
  },
  {
   "cell_type": "markdown",
   "metadata": {},
   "source": [
    "Convert `HOURLYPrecip` to the `numeric` type and store the cleaned dataframe as a new variable.\n"
   ]
  },
  {
   "cell_type": "code",
   "execution_count": 15,
   "metadata": {
    "tags": []
   },
   "outputs": [],
   "source": [
    "sub_sample$HOURLYPrecip <- as.numeric(sub_sample$HOURLYPrecip)"
   ]
  },
  {
   "cell_type": "markdown",
   "metadata": {},
   "source": [
    "We can now see that all fields have numerical data type.\n"
   ]
  },
  {
   "cell_type": "code",
   "execution_count": 16,
   "metadata": {
    "tags": []
   },
   "outputs": [
    {
     "name": "stdout",
     "output_type": "stream",
     "text": [
      "Rows: 5,727\n",
      "Columns: 5\n",
      "$ HOURLYRelativeHumidity <dbl> 46, 48, 89, 48, 61, 79, 51, 65, 90, 94, 79, 37…\n",
      "$ HOURLYDRYBULBTEMPF     <dbl> 83, 53, 36, 36, 39, 41, 19, 24, 54, 73, 83, 44…\n",
      "$ HOURLYPrecip           <dbl> 0.00, 0.00, 0.00, 0.00, 0.00, 0.00, 0.00, 0.00…\n",
      "$ HOURLYWindSpeed        <dbl> 13, 6, 13, 14, 11, 6, 0, 11, 11, 5, 21, 7, 17,…\n",
      "$ HOURLYStationPressure  <dbl> 29.99, 30.03, 30.12, 29.80, 30.50, 29.92, 30.4…\n"
     ]
    }
   ],
   "source": [
    "glimpse(sub_sample)"
   ]
  },
  {
   "cell_type": "markdown",
   "metadata": {},
   "source": [
    "<a id=\"cell6\"></a>\n",
    "## 6. Rename Columns\n",
    "Let's rename the following columns as:\n",
    "- 'HOURLYRelativeHumidity' to 'relative_humidity'\n",
    "- 'HOURLYDRYBULBTEMPF' to 'dry_bulb_temp_f'\n",
    "- 'HOURLYPrecip' to 'precip'\n",
    "- 'HOURLYWindSpeed' to 'wind_speed'\n",
    "- 'HOURLYStationPressure' to 'station_pressure'\n",
    "\n",
    "You can use `dplyr::rename()`. Then, store the final dataframe as a new variable.\n"
   ]
  },
  {
   "cell_type": "code",
   "execution_count": 17,
   "metadata": {
    "tags": []
   },
   "outputs": [],
   "source": [
    "sub_sample2 <- sub_sample %>%\n",
    "                rename (relative_humidity = HOURLYRelativeHumidity,\n",
    "                        dry_bulb_temp_f = HOURLYDRYBULBTEMPF,\n",
    "                        precip = HOURLYPrecip,\n",
    "                        wind_speed = HOURLYWindSpeed,\n",
    "                        station_pressure = HOURLYStationPressure)"
   ]
  },
  {
   "cell_type": "code",
   "execution_count": 18,
   "metadata": {
    "tags": []
   },
   "outputs": [
    {
     "name": "stdout",
     "output_type": "stream",
     "text": [
      "Rows: 5,727\n",
      "Columns: 5\n",
      "$ relative_humidity <dbl> 46, 48, 89, 48, 61, 79, 51, 65, 90, 94, 79, 37, 72,…\n",
      "$ dry_bulb_temp_f   <dbl> 83, 53, 36, 36, 39, 41, 19, 24, 54, 73, 83, 44, 57,…\n",
      "$ precip            <dbl> 0.00, 0.00, 0.00, 0.00, 0.00, 0.00, 0.00, 0.00, 0.0…\n",
      "$ wind_speed        <dbl> 13, 6, 13, 14, 11, 6, 0, 11, 11, 5, 21, 7, 17, 8, 3…\n",
      "$ station_pressure  <dbl> 29.99, 30.03, 30.12, 29.80, 30.50, 29.92, 30.40, 30…\n"
     ]
    }
   ],
   "source": [
    "glimpse(sub_sample2)"
   ]
  },
  {
   "cell_type": "markdown",
   "metadata": {},
   "source": [
    "<a id=\"cell7\"></a>\n",
    "## 7. Exploratory Data Analysis\n",
    "Now that you have finished preprocessing the dataset, you can can start exploring the columns more.\n",
    "\n",
    "First, split the data into a training and testing set. Splitting a dataset is done randomly, so to have reproducible results set the seed = 1234. Also, use 80% of the data for training.\n"
   ]
  },
  {
   "cell_type": "code",
   "execution_count": 19,
   "metadata": {
    "tags": []
   },
   "outputs": [],
   "source": [
    "set.seed(1234)\n",
    "split <- initial_split(sub_sample2, prop = 4/5)\n",
    "train_data <- training(split)\n",
    "test_data <- testing(split)"
   ]
  },
  {
   "cell_type": "markdown",
   "metadata": {},
   "source": [
    "Next, looking at just the **training set**, plot histograms or box plots of the variables (`relative_humidity`, `dry_bulb_temp_f`, `precip`, `wind_speed`,  `station_pressure`) for an intial look of their distributions using `tidyverse`'s `ggplot`. Leave the testing set as is because it is good practice to not see the testing set until evaluating the final model.\n"
   ]
  },
  {
   "cell_type": "code",
   "execution_count": 20,
   "metadata": {
    "tags": []
   },
   "outputs": [
    {
     "name": "stderr",
     "output_type": "stream",
     "text": [
      "`stat_bin()` using `bins = 30`. Pick better value with `binwidth`.\n",
      "Warning message:\n",
      "“Removed 127 rows containing non-finite values (stat_bin).”"
     ]
    },
    {
     "data": {},
     "metadata": {},
     "output_type": "display_data"
    },
    {
     "data": {
      "image/png": "[encoded data removed]",
      "text/plain": [
       "plot without title"
      ]
     },
     "metadata": {},
     "output_type": "display_data",
     "source": "R display func"
    }
   ],
   "source": [
    "ggplot(train_data, aes(x=relative_humidity))+\n",
    "geom_histogram(color=\"darkblue\", fill =\"lightblue\")"
   ]
  },
  {
   "cell_type": "code",
   "execution_count": 21,
   "metadata": {
    "tags": []
   },
   "outputs": [
    {
     "name": "stderr",
     "output_type": "stream",
     "text": [
      "`stat_bin()` using `bins = 30`. Pick better value with `binwidth`.\n",
      "Warning message:\n",
      "“Removed 127 rows containing non-finite values (stat_bin).”"
     ]
    },
    {
     "data": {},
     "metadata": {},
     "output_type": "display_data"
    },
    {
     "data": {
      "image/png": "[encoded data removed]",
      "text/plain": [
       "plot without title"
      ]
     },
     "metadata": {},
     "output_type": "display_data",
     "source": "R display func"
    }
   ],
   "source": [
    "ggplot(train_data, aes(x=dry_bulb_temp_f))+\n",
    "geom_histogram(color=\"darkblue\", fill =\"lightblue\")"
   ]
  },
  {
   "cell_type": "code",
   "execution_count": 22,
   "metadata": {
    "tags": []
   },
   "outputs": [
    {
     "name": "stderr",
     "output_type": "stream",
     "text": [
      "`stat_bin()` using `bins = 30`. Pick better value with `binwidth`.\n",
      "Warning message:\n",
      "“Removed 1328 rows containing non-finite values (stat_bin).”"
     ]
    },
    {
     "data": {},
     "metadata": {},
     "output_type": "display_data"
    },
    {
     "data": {
      "image/png": "[encoded data removed]",
      "text/plain": [
       "plot without title"
      ]
     },
     "metadata": {},
     "output_type": "display_data",
     "source": "R display func"
    }
   ],
   "source": [
    "ggplot(train_data, aes(x=precip))+\n",
    "geom_histogram(color=\"darkblue\", fill =\"lightblue\")"
   ]
  },
  {
   "cell_type": "code",
   "execution_count": 23,
   "metadata": {
    "tags": []
   },
   "outputs": [
    {
     "name": "stderr",
     "output_type": "stream",
     "text": [
      "`stat_bin()` using `bins = 30`. Pick better value with `binwidth`.\n",
      "Warning message:\n",
      "“Removed 132 rows containing non-finite values (stat_bin).”"
     ]
    },
    {
     "data": {},
     "metadata": {},
     "output_type": "display_data"
    },
    {
     "data": {
      "image/png": "[encoded data removed]",
      "text/plain": [
       "plot without title"
      ]
     },
     "metadata": {},
     "output_type": "display_data",
     "source": "R display func"
    }
   ],
   "source": [
    "ggplot(train_data, aes(x=wind_speed))+\n",
    "geom_histogram(color=\"darkblue\", fill =\"lightblue\")"
   ]
  },
  {
   "cell_type": "code",
   "execution_count": 24,
   "metadata": {
    "tags": []
   },
   "outputs": [
    {
     "name": "stderr",
     "output_type": "stream",
     "text": [
      "`stat_bin()` using `bins = 30`. Pick better value with `binwidth`.\n",
      "Warning message:\n",
      "“Removed 133 rows containing non-finite values (stat_bin).”"
     ]
    },
    {
     "data": {},
     "metadata": {},
     "output_type": "display_data"
    },
    {
     "data": {
      "image/png": "[encoded data removed]",
      "text/plain": [
       "plot without title"
      ]
     },
     "metadata": {},
     "output_type": "display_data",
     "source": "R display func"
    }
   ],
   "source": [
    "ggplot(train_data, aes(x=station_pressure))+\n",
    "geom_histogram(color=\"darkblue\", fill =\"lightblue\")"
   ]
  },
  {
   "cell_type": "markdown",
   "metadata": {},
   "source": [
    "<a id=\"cell8\"></a>\n",
    "## 8. Linear Regression \n",
    "After exploring the dataset more, you are now ready to start creating models to predict the precipitation (`precip`).\n",
    "\n",
    "Create simple linear regression models where `precip` is the response variable and each of `relative_humidity`, `dry_bulb_temp_f`,`wind_speed` or `station_pressure` will be a predictor variable, e.g. `precip ~ relative_humidity`, `precip ~ dry_bulb_temp_f`, etc. for a total of four simple models. \n",
    "Additionally, visualize each simple model with a scatter plot.\n"
   ]
  },
  {
   "cell_type": "code",
   "execution_count": 25,
   "metadata": {
    "tags": []
   },
   "outputs": [
    {
     "data": {
      "text/plain": [
       "Linear Regression Model Specification (regression)\n",
       "\n",
       "Computational engine: lm \n"
      ]
     },
     "metadata": {},
     "output_type": "display_data"
    }
   ],
   "source": [
    "lm_spec <- linear_reg() %>%\n",
    "set_engine(engine=\"lm\")\n",
    "lm_spec"
   ]
  },
  {
   "cell_type": "code",
   "execution_count": 26,
   "metadata": {
    "tags": []
   },
   "outputs": [
    {
     "data": {
      "text/plain": [
       "parsnip model object\n",
       "\n",
       "Fit time:  7ms \n",
       "\n",
       "Call:\n",
       "stats::lm(formula = formula, data = data)\n",
       "\n",
       "Coefficients:\n",
       "      (Intercept)  relative_humidity  \n",
       "       -0.0214377          0.0004245  \n"
      ]
     },
     "metadata": {},
     "output_type": "display_data"
    }
   ],
   "source": [
    "train_fit<-lm_spec%>%\n",
    "fit(precip~relative_humidity, data=train_data)\n",
    "train_fit"
   ]
  },
  {
   "cell_type": "code",
   "execution_count": 34,
   "metadata": {
    "tags": []
   },
   "outputs": [
    {
     "name": "stderr",
     "output_type": "stream",
     "text": [
      "`geom_smooth()` using formula 'y ~ x'\n",
      "Warning message:\n",
      "“Removed 1328 rows containing non-finite values (stat_smooth).”Warning message:\n",
      "“Removed 1328 rows containing missing values (geom_point).”"
     ]
    },
    {
     "data": {},
     "metadata": {},
     "output_type": "display_data"
    },
    {
     "data": {
      "image/png": "[encoded data removed]",
      "text/plain": [
       "plot without title"
      ]
     },
     "metadata": {},
     "output_type": "display_data",
     "source": "R display func"
    }
   ],
   "source": [
    "ggplot (train_data, aes(x=relative_humidity, y=precip))+\n",
    "geom_point()+\n",
    "stat_smooth(method=\"lm\", col=\"purple\", se= FALSE)"
   ]
  },
  {
   "cell_type": "code",
   "execution_count": 35,
   "metadata": {
    "tags": []
   },
   "outputs": [
    {
     "data": {
      "text/plain": [
       "parsnip model object\n",
       "\n",
       "Fit time:  5ms \n",
       "\n",
       "Call:\n",
       "stats::lm(formula = formula, data = data)\n",
       "\n",
       "Coefficients:\n",
       "    (Intercept)  dry_bulb_temp_f  \n",
       "      7.192e-03       -1.043e-05  \n"
      ]
     },
     "metadata": {},
     "output_type": "display_data"
    },
    {
     "name": "stderr",
     "output_type": "stream",
     "text": [
      "`geom_smooth()` using formula 'y ~ x'\n",
      "Warning message:\n",
      "“Removed 1328 rows containing non-finite values (stat_smooth).”Warning message:\n",
      "“Removed 1328 rows containing missing values (geom_point).”"
     ]
    },
    {
     "data": {},
     "metadata": {},
     "output_type": "display_data"
    },
    {
     "data": {
      "image/png": "[encoded data removed]",
      "text/plain": [
       "plot without title"
      ]
     },
     "metadata": {},
     "output_type": "display_data",
     "source": "R display func"
    }
   ],
   "source": [
    "train_fit<-lm_spec%>%\n",
    "fit(precip~dry_bulb_temp_f, data=train_data)\n",
    "train_fit\n",
    "ggplot (train_data, aes(x=dry_bulb_temp_f, y=precip))+\n",
    "geom_point()+\n",
    "stat_smooth(method=\"lm\", col=\"purple\", se = FALSE)"
   ]
  },
  {
   "cell_type": "code",
   "execution_count": 36,
   "metadata": {
    "tags": []
   },
   "outputs": [
    {
     "data": {
      "text/plain": [
       "parsnip model object\n",
       "\n",
       "Fit time:  3ms \n",
       "\n",
       "Call:\n",
       "stats::lm(formula = formula, data = data)\n",
       "\n",
       "Coefficients:\n",
       "(Intercept)   wind_speed  \n",
       "  0.0010088    0.0004938  \n"
      ]
     },
     "metadata": {},
     "output_type": "display_data"
    },
    {
     "name": "stderr",
     "output_type": "stream",
     "text": [
      "`geom_smooth()` using formula 'y ~ x'\n",
      "Warning message:\n",
      "“Removed 1328 rows containing non-finite values (stat_smooth).”Warning message:\n",
      "“Removed 1328 rows containing missing values (geom_point).”"
     ]
    },
    {
     "data": {},
     "metadata": {},
     "output_type": "display_data"
    },
    {
     "data": {
      "image/png": "[encoded data removed]",
      "text/plain": [
       "plot without title"
      ]
     },
     "metadata": {},
     "output_type": "display_data",
     "source": "R display func"
    }
   ],
   "source": [
    "train_fit<-lm_spec%>%\n",
    "fit(precip~wind_speed, data=train_data)\n",
    "train_fit\n",
    "ggplot (train_data, aes(x=wind_speed, y=precip))+\n",
    "geom_point()+\n",
    "stat_smooth(method=\"lm\", col=\"purple\", se =FALSE)"
   ]
  },
  {
   "cell_type": "code",
   "execution_count": 37,
   "metadata": {
    "tags": []
   },
   "outputs": [
    {
     "data": {
      "text/plain": [
       "parsnip model object\n",
       "\n",
       "Fit time:  3ms \n",
       "\n",
       "Call:\n",
       "stats::lm(formula = formula, data = data)\n",
       "\n",
       "Coefficients:\n",
       "     (Intercept)  station_pressure  \n",
       "         0.66871          -0.02208  \n"
      ]
     },
     "metadata": {},
     "output_type": "display_data"
    },
    {
     "name": "stderr",
     "output_type": "stream",
     "text": [
      "`geom_smooth()` using formula 'y ~ x'\n",
      "Warning message:\n",
      "“Removed 1331 rows containing non-finite values (stat_smooth).”Warning message:\n",
      "“Removed 1331 rows containing missing values (geom_point).”"
     ]
    },
    {
     "data": {},
     "metadata": {},
     "output_type": "display_data"
    },
    {
     "data": {
      "image/png": "[encoded data removed]",
      "text/plain": [
       "plot without title"
      ]
     },
     "metadata": {},
     "output_type": "display_data",
     "source": "R display func"
    }
   ],
   "source": [
    "train_fit<-lm_spec%>%\n",
    "fit(precip~station_pressure, data=train_data)\n",
    "train_fit\n",
    "ggplot (train_data, aes(x=station_pressure, y=precip))+\n",
    "geom_point()+\n",
    "stat_smooth(method=\"lm\", col=\"purple\", se = FALSE)"
   ]
  },
  {
   "cell_type": "markdown",
   "metadata": {},
   "source": [
    "<a id=\"cell9\"></a>\n",
    "## 9. Improve the Model\n",
    "Now, try improving the simple models you created in the previous section. \n",
    "\n",
    "Create at least two more models, each model should use at least one of the different techniques:\n",
    "1. Add more features/predictors\n",
    "2. Add regularization (L1, L2 or a mix)\n",
    "3. Add a polynomial component\n",
    "\n",
    "Also, for each of the models you create, check the model performance using the **training set** and a metric like MSE, RMSE, or R-squared.\n",
    "\n",
    "Consider using `tidymodels` if you choose to add regularization and tune lambda.\n"
   ]
  },
  {
   "cell_type": "code",
   "execution_count": 38,
   "metadata": {
    "tags": []
   },
   "outputs": [],
   "source": [
    "mlr_train<-lm_spec%>%\n",
    "fit(precip ~ relative_humidity + dry_bulb_temp_f + wind_speed + \n",
    "    station_pressure, data = train_data)"
   ]
  },
  {
   "cell_type": "code",
   "execution_count": 39,
   "metadata": {
    "tags": []
   },
   "outputs": [],
   "source": [
    "mlr_results<-mlr_train%>%\n",
    "predict(new_data=train_data)%>%\n",
    "mutate(truth=train_data$precip)"
   ]
  },
  {
   "cell_type": "code",
   "execution_count": 40,
   "metadata": {
    "tags": []
   },
   "outputs": [
    {
     "data": {
      "text/html": [
       "<table>\n",
       "<caption>A tibble: 1 × 3</caption>\n",
       "<thead>\n",
       "\t<tr><th scope=col>.metric</th><th scope=col>.estimator</th><th scope=col>.estimate</th></tr>\n",
       "\t<tr><th scope=col>&lt;chr&gt;</th><th scope=col>&lt;chr&gt;</th><th scope=col>&lt;dbl&gt;</th></tr>\n",
       "</thead>\n",
       "<tbody>\n",
       "\t<tr><td>rmse</td><td>standard</td><td>0.04141154</td></tr>\n",
       "</tbody>\n",
       "</table>\n"
      ],
      "text/latex": [
       "A tibble: 1 × 3\n",
       "\\begin{tabular}{lll}\n",
       " .metric & .estimator & .estimate\\\\\n",
       " <chr> & <chr> & <dbl>\\\\\n",
       "\\hline\n",
       "\t rmse & standard & 0.04141154\\\\\n",
       "\\end{tabular}\n"
      ],
      "text/markdown": [
       "\n",
       "A tibble: 1 × 3\n",
       "\n",
       "| .metric &lt;chr&gt; | .estimator &lt;chr&gt; | .estimate &lt;dbl&gt; |\n",
       "|---|---|---|\n",
       "| rmse | standard | 0.04141154 |\n",
       "\n"
      ],
      "text/plain": [
       "  .metric .estimator .estimate \n",
       "1 rmse    standard   0.04141154"
      ]
     },
     "metadata": {},
     "output_type": "display_data"
    }
   ],
   "source": [
    "rmse_mlr<-rmse(mlr_results, truth=truth, estimate= .pred)\n",
    "rmse_mlr"
   ]
  },
  {
   "cell_type": "code",
   "execution_count": 41,
   "metadata": {
    "tags": []
   },
   "outputs": [
    {
     "data": {
      "text/html": [
       "<table>\n",
       "<caption>A tibble: 1 × 3</caption>\n",
       "<thead>\n",
       "\t<tr><th scope=col>.metric</th><th scope=col>.estimator</th><th scope=col>.estimate</th></tr>\n",
       "\t<tr><th scope=col>&lt;chr&gt;</th><th scope=col>&lt;chr&gt;</th><th scope=col>&lt;dbl&gt;</th></tr>\n",
       "</thead>\n",
       "<tbody>\n",
       "\t<tr><td>rmse</td><td>standard</td><td>0.04123249</td></tr>\n",
       "</tbody>\n",
       "</table>\n"
      ],
      "text/latex": [
       "A tibble: 1 × 3\n",
       "\\begin{tabular}{lll}\n",
       " .metric & .estimator & .estimate\\\\\n",
       " <chr> & <chr> & <dbl>\\\\\n",
       "\\hline\n",
       "\t rmse & standard & 0.04123249\\\\\n",
       "\\end{tabular}\n"
      ],
      "text/markdown": [
       "\n",
       "A tibble: 1 × 3\n",
       "\n",
       "| .metric &lt;chr&gt; | .estimator &lt;chr&gt; | .estimate &lt;dbl&gt; |\n",
       "|---|---|---|\n",
       "| rmse | standard | 0.04123249 |\n",
       "\n"
      ],
      "text/plain": [
       "  .metric .estimator .estimate \n",
       "1 rmse    standard   0.04123249"
      ]
     },
     "metadata": {},
     "output_type": "display_data"
    }
   ],
   "source": [
    "poly_percip <- lm_spec %>% fit(precip~poly(relative_humidity,2,raw=TRUE), data =train_data)\n",
    "res_train <- poly_percip %>% predict(new_data=train_data) %>% mutate(truth=train_data$precip)\n",
    "train_rmse<-rmse(res_train, truth=truth, estimate=.pred)\n",
    "train_rmse"
   ]
  },
  {
   "cell_type": "markdown",
   "metadata": {},
   "source": [
    "<a id=\"cell10\"></a>\n",
    "## 10. Find Best Model\n",
    "Compare the regression metrics of each model from section 9 to find the best model overall. To do this, \n",
    "\n",
    "1. Evaluate the models on the **testing set** using at least one metric (like MSE, RMSE or R-squared).\n",
    "2. After calculating the metrics on the testing set for each model, print them out in as a table to easily compare. You can use something like:\n",
    "```\n",
    "model_names <- c(\"model_1\", \"model_2\", \"model_3\")\n",
    "train_error <- c(\"model_1_value\", \"model_2_value\", \"model_3_value\")\n",
    "test_error <- c(\"model_1_value\", \"model_2_value\", \"model_3_value\")\n",
    "comparison_df <- data.frame(model_names, train_error, test_error)\n",
    "```\n",
    "3. Finally, from the comparison table you create, conclude which model performed the best.\n"
   ]
  },
  {
   "cell_type": "code",
   "execution_count": 43,
   "metadata": {
    "tags": []
   },
   "outputs": [],
   "source": [
    "poly_test<-lm_spec %>% fit(precip~poly(relative_humidity,2,raw=TRUE), data=test_data)"
   ]
  },
  {
   "cell_type": "code",
   "execution_count": 51,
   "metadata": {
    "tags": []
   },
   "outputs": [
    {
     "data": {
      "text/html": [
       "<table>\n",
       "<caption>A tibble: 1 × 3</caption>\n",
       "<thead>\n",
       "\t<tr><th scope=col>.metric</th><th scope=col>.estimator</th><th scope=col>.estimate</th></tr>\n",
       "\t<tr><th scope=col>&lt;chr&gt;</th><th scope=col>&lt;chr&gt;</th><th scope=col>&lt;dbl&gt;</th></tr>\n",
       "</thead>\n",
       "<tbody>\n",
       "\t<tr><td>rmse</td><td>standard</td><td>0.03694994</td></tr>\n",
       "</tbody>\n",
       "</table>\n"
      ],
      "text/latex": [
       "A tibble: 1 × 3\n",
       "\\begin{tabular}{lll}\n",
       " .metric & .estimator & .estimate\\\\\n",
       " <chr> & <chr> & <dbl>\\\\\n",
       "\\hline\n",
       "\t rmse & standard & 0.03694994\\\\\n",
       "\\end{tabular}\n"
      ],
      "text/markdown": [
       "\n",
       "A tibble: 1 × 3\n",
       "\n",
       "| .metric &lt;chr&gt; | .estimator &lt;chr&gt; | .estimate &lt;dbl&gt; |\n",
       "|---|---|---|\n",
       "| rmse | standard | 0.03694994 |\n",
       "\n"
      ],
      "text/plain": [
       "  .metric .estimator .estimate \n",
       "1 rmse    standard   0.03694994"
      ]
     },
     "metadata": {},
     "output_type": "display_data"
    },
    {
     "data": {
      "text/html": [
       "<table>\n",
       "<caption>A tibble: 1 × 3</caption>\n",
       "<thead>\n",
       "\t<tr><th scope=col>.metric</th><th scope=col>.estimator</th><th scope=col>.estimate</th></tr>\n",
       "\t<tr><th scope=col>&lt;chr&gt;</th><th scope=col>&lt;chr&gt;</th><th scope=col>&lt;dbl&gt;</th></tr>\n",
       "</thead>\n",
       "<tbody>\n",
       "\t<tr><td>rmse</td><td>standard</td><td>0.03654731</td></tr>\n",
       "</tbody>\n",
       "</table>\n"
      ],
      "text/latex": [
       "A tibble: 1 × 3\n",
       "\\begin{tabular}{lll}\n",
       " .metric & .estimator & .estimate\\\\\n",
       " <chr> & <chr> & <dbl>\\\\\n",
       "\\hline\n",
       "\t rmse & standard & 0.03654731\\\\\n",
       "\\end{tabular}\n"
      ],
      "text/markdown": [
       "\n",
       "A tibble: 1 × 3\n",
       "\n",
       "| .metric &lt;chr&gt; | .estimator &lt;chr&gt; | .estimate &lt;dbl&gt; |\n",
       "|---|---|---|\n",
       "| rmse | standard | 0.03654731 |\n",
       "\n"
      ],
      "text/plain": [
       "  .metric .estimator .estimate \n",
       "1 rmse    standard   0.03654731"
      ]
     },
     "metadata": {},
     "output_type": "display_data"
    }
   ],
   "source": [
    "res_test <- poly_test %>%\n",
    "            predict(new_data=test_data) %>% \n",
    "            mutate(truth=test_data$precip)\n",
    "test_rmse<-rmse(res_test,truth=truth,estimate=.pred)\n",
    "test_rmse\n",
    "\n",
    "\n",
    "mlr_test<-lm_spec%>%fit(precip ~ relative_humidity + dry_bulb_temp_f + wind_speed + \n",
    "    station_pressure, data = test_data)\n",
    "mlr_results<-mlr_test%>%\n",
    "predict(new_data=test_data)%>%\n",
    "mutate(truth=test_data$precip)\n",
    "mlr_test_rmse<-rmse(mlr_results,truth=truth, estimate=.pred)\n",
    "mlr_test_rmse"
   ]
  },
  {
   "cell_type": "code",
   "execution_count": 56,
   "metadata": {
    "tags": []
   },
   "outputs": [
    {
     "data": {
      "text/html": [
       "<table>\n",
       "<caption>A data.frame: 2 × 3</caption>\n",
       "<thead>\n",
       "\t<tr><th scope=col>model_names</th><th scope=col>train_error</th><th scope=col>test_error</th></tr>\n",
       "\t<tr><th scope=col>&lt;fct&gt;</th><th scope=col>&lt;dbl&gt;</th><th scope=col>&lt;dbl&gt;</th></tr>\n",
       "</thead>\n",
       "<tbody>\n",
       "\t<tr><td>mlr  </td><td>0.04123249</td><td>0.03694994</td></tr>\n",
       "\t<tr><td>poly2</td><td>0.04141154</td><td>0.03654731</td></tr>\n",
       "</tbody>\n",
       "</table>\n"
      ],
      "text/latex": [
       "A data.frame: 2 × 3\n",
       "\\begin{tabular}{lll}\n",
       " model\\_names & train\\_error & test\\_error\\\\\n",
       " <fct> & <dbl> & <dbl>\\\\\n",
       "\\hline\n",
       "\t mlr   & 0.04123249 & 0.03694994\\\\\n",
       "\t poly2 & 0.04141154 & 0.03654731\\\\\n",
       "\\end{tabular}\n"
      ],
      "text/markdown": [
       "\n",
       "A data.frame: 2 × 3\n",
       "\n",
       "| model_names &lt;fct&gt; | train_error &lt;dbl&gt; | test_error &lt;dbl&gt; |\n",
       "|---|---|---|\n",
       "| mlr   | 0.04123249 | 0.03694994 |\n",
       "| poly2 | 0.04141154 | 0.03654731 |\n",
       "\n"
      ],
      "text/plain": [
       "  model_names train_error test_error\n",
       "1 mlr         0.04123249  0.03694994\n",
       "2 poly2       0.04141154  0.03654731"
      ]
     },
     "metadata": {},
     "output_type": "display_data"
    }
   ],
   "source": [
    "model_names <- c(\"mlr\", \"poly2\")\n",
    "train_error <- c(train_rmse$.estimate, rmse_mlr$.estimate)\n",
    "test_error <- c(test_rmse$.estimate, mlr_test_rmse$.estimate)\n",
    "comparison_df <- data.frame(model_names, train_error, test_error)\n",
    "comparison_df"
   ]
  },
  {
   "cell_type": "code",
   "execution_count": 58,
   "metadata": {
    "tags": []
   },
   "outputs": [],
   "source": [
    "#Based on the RMSE values, the poly2 model performs slightly better overall, showing a lower RMSE on the test set compared to the mlr model. \n",
    "#While mlr has a marginally lower training error, poly2 demonstrates better generalization, as indicated by its lower test error. "
   ]
  },
  {
   "cell_type": "markdown",
   "metadata": {},
   "source": [
    "## Author(s)\n",
    "\n",
    "<h4> Yiwen Li </h4>\n",
    "\n",
    "## Contributions\n",
    "\n",
    "<h4> Tiffany Zhu </h4>\n",
    "\n",
    "## <h3 align=\"center\"> © IBM Corporation 2021. All rights reserved. <h3/>\n"
   ]
  }
 ],
 "metadata": {
  "kernelspec": {
   "display_name": "R",
   "language": "R",
   "name": "conda-env-r-r"
  },
  "language_info": {
   "codemirror_mode": "r",
   "file_extension": ".r",
   "mimetype": "text/x-r-source",
   "name": "R",
   "pygments_lexer": "r",
   "version": "3.5.1"
  }
 },
 "nbformat": 4,
 "nbformat_minor": 4
}
